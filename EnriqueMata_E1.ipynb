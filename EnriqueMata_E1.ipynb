{
 "cells": [
  {
   "cell_type": "markdown",
   "id": "1bed9f0d",
   "metadata": {},
   "source": [
    "Excercici 1: Enters\n"
   ]
  },
  {
   "cell_type": "markdown",
   "id": "c03c02db",
   "metadata": {},
   "source": [
    "1."
   ]
  },
  {
   "cell_type": "code",
   "execution_count": 41,
   "id": "4a3e3bf0",
   "metadata": {},
   "outputs": [],
   "source": [
    "preu_entrada = 8.35"
   ]
  },
  {
   "cell_type": "code",
   "execution_count": 42,
   "id": "8ff97b3b",
   "metadata": {},
   "outputs": [],
   "source": [
    "nombre_1entrades =  1"
   ]
  },
  {
   "cell_type": "code",
   "execution_count": 43,
   "id": "e6436ccb",
   "metadata": {},
   "outputs": [],
   "source": [
    "nombre_5entrades =  5"
   ]
  },
  {
   "cell_type": "code",
   "execution_count": 44,
   "id": "d8d4f6c5",
   "metadata": {},
   "outputs": [],
   "source": [
    "nombre354rades =  354"
   ]
  },
  {
   "cell_type": "code",
   "execution_count": 45,
   "id": "d9fa9cf7",
   "metadata": {},
   "outputs": [],
   "source": [
    "cost_total1 = preu_entrada * nombre_1entrades"
   ]
  },
  {
   "cell_type": "code",
   "execution_count": 46,
   "id": "95a7a529",
   "metadata": {},
   "outputs": [],
   "source": [
    "cost_total5 = preu_entrada * nombre_5entrades"
   ]
  },
  {
   "cell_type": "code",
   "execution_count": 47,
   "id": "df4359c9",
   "metadata": {},
   "outputs": [],
   "source": [
    "cost_total354 = preu_entrada * nombre354rades "
   ]
  },
  {
   "cell_type": "code",
   "execution_count": 48,
   "id": "9859fcb1",
   "metadata": {},
   "outputs": [
    {
     "data": {
      "text/plain": [
       "8.35"
      ]
     },
     "execution_count": 48,
     "metadata": {},
     "output_type": "execute_result"
    }
   ],
   "source": [
    "cost_total1"
   ]
  },
  {
   "cell_type": "code",
   "execution_count": 49,
   "id": "aaa58934",
   "metadata": {},
   "outputs": [
    {
     "data": {
      "text/plain": [
       "41.75"
      ]
     },
     "execution_count": 49,
     "metadata": {},
     "output_type": "execute_result"
    }
   ],
   "source": [
    "cost_total5"
   ]
  },
  {
   "cell_type": "code",
   "execution_count": 50,
   "id": "84faec11",
   "metadata": {},
   "outputs": [
    {
     "data": {
      "text/plain": [
       "2955.9"
      ]
     },
     "execution_count": 50,
     "metadata": {},
     "output_type": "execute_result"
    }
   ],
   "source": [
    "cost_total354"
   ]
  },
  {
   "cell_type": "code",
   "execution_count": 51,
   "id": "732f1bf5",
   "metadata": {},
   "outputs": [],
   "source": [
    "nombre_entrades = 10"
   ]
  },
  {
   "cell_type": "code",
   "execution_count": 52,
   "id": "eb774727",
   "metadata": {},
   "outputs": [],
   "source": [
    "nombre_entrades_retornades = 4"
   ]
  },
  {
   "cell_type": "code",
   "execution_count": 80,
   "id": "c4360ec7",
   "metadata": {},
   "outputs": [],
   "source": [
    "percentatge = (preu_entrada * (nombre_entrades- nombre_entrades_retornades)) +((nombre_entrades_retornades * preu_entrada) * 22) / 100"
   ]
  },
  {
   "cell_type": "code",
   "execution_count": 81,
   "id": "b42f24cf",
   "metadata": {},
   "outputs": [],
   "source": [
    "preu_final = percentatge"
   ]
  },
  {
   "cell_type": "code",
   "execution_count": 85,
   "id": "bd7efe5b",
   "metadata": {},
   "outputs": [
    {
     "data": {
      "text/plain": [
       "57.44799999999999"
      ]
     },
     "execution_count": 85,
     "metadata": {},
     "output_type": "execute_result"
    }
   ],
   "source": [
    "preu_final\n"
   ]
  },
  {
   "cell_type": "markdown",
   "id": "6a9c185b",
   "metadata": {},
   "source": [
    "2."
   ]
  },
  {
   "cell_type": "code",
   "execution_count": 56,
   "id": "94e695e5",
   "metadata": {},
   "outputs": [],
   "source": [
    "infectats_inicials= 10\n",
    "poblacio= 1000\n",
    "taxa_contagi= 0.01\n",
    "dies = 5"
   ]
  },
  {
   "cell_type": "code",
   "execution_count": 57,
   "id": "e7c4776b",
   "metadata": {},
   "outputs": [],
   "source": [
    "infectats = infectats_inicials + (poblacio -infectats_inicials) * (1- (1-taxa_contagi)**dies)"
   ]
  },
  {
   "cell_type": "code",
   "execution_count": 58,
   "id": "2b629583",
   "metadata": {},
   "outputs": [
    {
     "data": {
      "text/plain": [
       "58.51985059900009"
      ]
     },
     "execution_count": 58,
     "metadata": {},
     "output_type": "execute_result"
    }
   ],
   "source": [
    "infectats"
   ]
  },
  {
   "cell_type": "markdown",
   "id": "cd2599d3",
   "metadata": {},
   "source": [
    "3."
   ]
  },
  {
   "cell_type": "code",
   "execution_count": 59,
   "id": "afba7839",
   "metadata": {},
   "outputs": [],
   "source": [
    "pi= 3.1415926535897932"
   ]
  },
  {
   "cell_type": "code",
   "execution_count": 60,
   "id": "a3e76cea",
   "metadata": {},
   "outputs": [],
   "source": [
    "r2= 30"
   ]
  },
  {
   "cell_type": "code",
   "execution_count": 61,
   "id": "2442e519",
   "metadata": {},
   "outputs": [],
   "source": [
    "r=15"
   ]
  },
  {
   "cell_type": "code",
   "execution_count": 62,
   "id": "a4523ee7",
   "metadata": {},
   "outputs": [],
   "source": [
    "P= 2*pi*r\n",
    "A =pi*r**2\n",
    "V = (4/3)* pi * r**3\n",
    "P2= 2*pi*r2\n",
    "A2 =pi*r2**2\n",
    "V2 = (4/3)* pi * r2**3\n"
   ]
  },
  {
   "cell_type": "code",
   "execution_count": 63,
   "id": "819cb11d",
   "metadata": {},
   "outputs": [
    {
     "data": {
      "text/plain": [
       "94.24777960769379"
      ]
     },
     "execution_count": 63,
     "metadata": {},
     "output_type": "execute_result"
    }
   ],
   "source": [
    "P\n"
   ]
  },
  {
   "cell_type": "code",
   "execution_count": 64,
   "id": "338a53f2",
   "metadata": {},
   "outputs": [],
   "source": [
    "r = \"\""
   ]
  },
  {
   "cell_type": "code",
   "execution_count": 65,
   "id": "f440cca3",
   "metadata": {},
   "outputs": [
    {
     "data": {
      "text/plain": [
       "706.8583470577034"
      ]
     },
     "execution_count": 65,
     "metadata": {},
     "output_type": "execute_result"
    }
   ],
   "source": [
    "A"
   ]
  },
  {
   "cell_type": "code",
   "execution_count": 66,
   "id": "a465b0d3",
   "metadata": {},
   "outputs": [
    {
     "data": {
      "text/plain": [
       "14137.166941154068"
      ]
     },
     "execution_count": 66,
     "metadata": {},
     "output_type": "execute_result"
    }
   ],
   "source": [
    "V"
   ]
  },
  {
   "cell_type": "code",
   "execution_count": 67,
   "id": "413c80a5",
   "metadata": {},
   "outputs": [
    {
     "data": {
      "text/plain": [
       "188.49555921538757"
      ]
     },
     "execution_count": 67,
     "metadata": {},
     "output_type": "execute_result"
    }
   ],
   "source": [
    "P2"
   ]
  },
  {
   "cell_type": "code",
   "execution_count": 68,
   "id": "9b834807",
   "metadata": {},
   "outputs": [
    {
     "data": {
      "text/plain": [
       "2827.4333882308138"
      ]
     },
     "execution_count": 68,
     "metadata": {},
     "output_type": "execute_result"
    }
   ],
   "source": [
    "A2"
   ]
  },
  {
   "cell_type": "code",
   "execution_count": 69,
   "id": "99fc8667",
   "metadata": {},
   "outputs": [
    {
     "data": {
      "text/plain": [
       "113097.33552923254"
      ]
     },
     "execution_count": 69,
     "metadata": {},
     "output_type": "execute_result"
    }
   ],
   "source": [
    "V2\n"
   ]
  },
  {
   "cell_type": "code",
   "execution_count": 70,
   "id": "fbffc680",
   "metadata": {},
   "outputs": [
    {
     "name": "stdout",
     "output_type": "stream",
     "text": [
      "Pel radi , el perímetre és 94.24777960769379m, l'àrea és 706.8583470577034m2, i el volum és 14137.166941154068m3.\n"
     ]
    }
   ],
   "source": [
    "print(f\"Pel radi {r}, el perímetre és {P}m, l'àrea és {A}m2, i el volum és {V}m3.\")\n"
   ]
  },
  {
   "cell_type": "code",
   "execution_count": 71,
   "id": "306a3a43",
   "metadata": {},
   "outputs": [
    {
     "name": "stdout",
     "output_type": "stream",
     "text": [
      "Pel radi 30, el perímetre és 188.49555921538757m, l'àrea és 2827.4333882308138m2, i el volum és 113097.33552923254m3.\n"
     ]
    }
   ],
   "source": [
    "print(f\"Pel radi {r2}, el perímetre és {P2}m, l'àrea és {A2}m2, i el volum és {V2}m3.\")"
   ]
  },
  {
   "cell_type": "markdown",
   "id": "26bbe022",
   "metadata": {},
   "source": [
    "4.\n",
    "\n"
   ]
  },
  {
   "cell_type": "code",
   "execution_count": 72,
   "id": "0c03d6e8",
   "metadata": {},
   "outputs": [],
   "source": [
    "nom = \"Enrique Mata González\""
   ]
  },
  {
   "cell_type": "code",
   "execution_count": 73,
   "id": "f3939660",
   "metadata": {},
   "outputs": [],
   "source": [
    "primera_lletra = nom[0]"
   ]
  },
  {
   "cell_type": "code",
   "execution_count": 74,
   "id": "b7590047",
   "metadata": {},
   "outputs": [],
   "source": [
    "ultima_lletra = nom[-1]"
   ]
  },
  {
   "cell_type": "code",
   "execution_count": 75,
   "id": "5ca0ec2e",
   "metadata": {},
   "outputs": [],
   "source": [
    "tres_lletres = nom[2:5]"
   ]
  },
  {
   "cell_type": "code",
   "execution_count": 76,
   "id": "4faf6111",
   "metadata": {},
   "outputs": [],
   "source": [
    "nom_M = nom.upper()"
   ]
  },
  {
   "cell_type": "code",
   "execution_count": 77,
   "id": "8484e596",
   "metadata": {},
   "outputs": [],
   "source": [
    "nom_m = nom.lower()"
   ]
  },
  {
   "cell_type": "code",
   "execution_count": 78,
   "id": "f8c64045",
   "metadata": {},
   "outputs": [],
   "source": [
    "llargada_nom = len(nom)"
   ]
  },
  {
   "cell_type": "code",
   "execution_count": 79,
   "id": "442fb169",
   "metadata": {},
   "outputs": [
    {
     "name": "stdout",
     "output_type": "stream",
     "text": [
      "Hola, el meu nom és Enrique Mata González. La primera lletra del meu nom és ´E.\n",
      " La ultima lletra del meu nom és ´z.\n",
      " Els tres caracters entre la posicio 2 i la posicio 5 son: riq\n",
      " El meu nom, amb espai té 21 caracters.\n",
      " El meu nom, en majuscules es veu aixi: ENRIQUE MATA GONZÁLEZ.\n",
      " El meu nom, en minuscules es veu aixi: enrique mata gonzález.\n",
      "   \n"
     ]
    }
   ],
   "source": [
    "print(f\"Hola, el meu nom és {nom}. La primera lletra del meu nom és ´{primera_lletra}.\\n La ultima lletra del meu nom és ´{ultima_lletra}.\\n Els tres caracters entre la posicio 2 i la posicio 5 son: {tres_lletres}\\n El meu nom, amb espai té {llargada_nom} caracters.\\n El meu nom, en majuscules es veu aixi: {nom_M}.\\n El meu nom, en minuscules es veu aixi: {nom_m}.\\n   \")"
   ]
  },
  {
   "cell_type": "markdown",
   "id": "28d8bd28",
   "metadata": {},
   "source": [
    "Final"
   ]
  },
  {
   "cell_type": "markdown",
   "id": "99aeb2b5",
   "metadata": {},
   "source": []
  }
 ],
 "metadata": {
  "kernelspec": {
   "display_name": "AppJT-CYNiPx3S",
   "language": "python",
   "name": "python3"
  },
  "language_info": {
   "codemirror_mode": {
    "name": "ipython",
    "version": 3
   },
   "file_extension": ".py",
   "mimetype": "text/x-python",
   "name": "python",
   "nbconvert_exporter": "python",
   "pygments_lexer": "ipython3",
   "version": "3.13.7"
  }
 },
 "nbformat": 4,
 "nbformat_minor": 5
}
