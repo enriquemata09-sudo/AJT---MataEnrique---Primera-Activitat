{
 "cells": [
  {
   "cell_type": "markdown",
   "id": "1bed9f0d",
   "metadata": {},
   "source": [
    "Excercici 1: Enters\n"
   ]
  },
  {
   "cell_type": "markdown",
   "id": "c03c02db",
   "metadata": {},
   "source": [
    "1."
   ]
  },
  {
   "cell_type": "code",
   "execution_count": 6,
   "id": "4a3e3bf0",
   "metadata": {},
   "outputs": [],
   "source": [
    "preu_entrada = 8.35"
   ]
  },
  {
   "cell_type": "code",
   "execution_count": 34,
   "id": "8ff97b3b",
   "metadata": {},
   "outputs": [],
   "source": [
    "nombre_1entrades =  1"
   ]
  },
  {
   "cell_type": "code",
   "execution_count": 33,
   "id": "e6436ccb",
   "metadata": {},
   "outputs": [],
   "source": [
    "nombre_5entrades =  5"
   ]
  },
  {
   "cell_type": "code",
   "execution_count": 45,
   "id": "d8d4f6c5",
   "metadata": {},
   "outputs": [],
   "source": [
    "nombre354rades =  354"
   ]
  },
  {
   "cell_type": "code",
   "execution_count": 46,
   "id": "d9fa9cf7",
   "metadata": {},
   "outputs": [],
   "source": [
    "cost_total1 = preu_entrada * nombre_1entrades"
   ]
  },
  {
   "cell_type": "code",
   "execution_count": 47,
   "id": "95a7a529",
   "metadata": {},
   "outputs": [],
   "source": [
    "cost_total5 = preu_entrada * nombre_5entrades"
   ]
  },
  {
   "cell_type": "code",
   "execution_count": 51,
   "id": "df4359c9",
   "metadata": {},
   "outputs": [],
   "source": [
    "cost_total354 = preu_entrada * nombre354rades "
   ]
  },
  {
   "cell_type": "code",
   "execution_count": 52,
   "id": "9859fcb1",
   "metadata": {},
   "outputs": [
    {
     "data": {
      "text/plain": [
       "8.35"
      ]
     },
     "execution_count": 52,
     "metadata": {},
     "output_type": "execute_result"
    }
   ],
   "source": [
    "cost_total1"
   ]
  },
  {
   "cell_type": "code",
   "execution_count": 53,
   "id": "aaa58934",
   "metadata": {},
   "outputs": [
    {
     "data": {
      "text/plain": [
       "41.75"
      ]
     },
     "execution_count": 53,
     "metadata": {},
     "output_type": "execute_result"
    }
   ],
   "source": [
    "cost_total5"
   ]
  },
  {
   "cell_type": "code",
   "execution_count": 54,
   "id": "84faec11",
   "metadata": {},
   "outputs": [
    {
     "data": {
      "text/plain": [
       "2955.9"
      ]
     },
     "execution_count": 54,
     "metadata": {},
     "output_type": "execute_result"
    }
   ],
   "source": [
    "cost_total354"
   ]
  },
  {
   "cell_type": "code",
   "execution_count": 17,
   "id": "732f1bf5",
   "metadata": {},
   "outputs": [],
   "source": [
    "nombre_entrades = 10"
   ]
  },
  {
   "cell_type": "code",
   "execution_count": 18,
   "id": "eb774727",
   "metadata": {},
   "outputs": [],
   "source": [
    "nombre_entrades_retornades = 4"
   ]
  },
  {
   "cell_type": "code",
   "execution_count": 57,
   "id": "c4360ec7",
   "metadata": {},
   "outputs": [],
   "source": [
    "percentatge = (preu_entrada * (nombre_entrades- nombre_entrades_retornades)) +((nombre_entrades_retornades * preu_entrada) * 88) / 100"
   ]
  },
  {
   "cell_type": "code",
   "execution_count": 58,
   "id": "b42f24cf",
   "metadata": {},
   "outputs": [],
   "source": [
    "preu_final = percentatge"
   ]
  },
  {
   "cell_type": "code",
   "execution_count": 59,
   "id": "bd7efe5b",
   "metadata": {},
   "outputs": [
    {
     "data": {
      "text/plain": [
       "79.49199999999999"
      ]
     },
     "execution_count": 59,
     "metadata": {},
     "output_type": "execute_result"
    }
   ],
   "source": [
    "preu_final"
   ]
  },
  {
   "cell_type": "markdown",
   "id": "6a9c185b",
   "metadata": {},
   "source": [
    "2."
   ]
  },
  {
   "cell_type": "code",
   "execution_count": 60,
   "id": "94e695e5",
   "metadata": {},
   "outputs": [],
   "source": [
    "infectats_inicials= 10\n",
    "poblacio= 1000\n",
    "taxa_contagi= 0.01\n",
    "dies = 5"
   ]
  },
  {
   "cell_type": "code",
   "execution_count": 61,
   "id": "e7c4776b",
   "metadata": {},
   "outputs": [],
   "source": [
    "infectats = infectats_inicials + (poblacio -infectats_inicials) * (1- (1-taxa_contagi)**dies)"
   ]
  },
  {
   "cell_type": "code",
   "execution_count": 62,
   "id": "2b629583",
   "metadata": {},
   "outputs": [
    {
     "data": {
      "text/plain": [
       "58.51985059900009"
      ]
     },
     "execution_count": 62,
     "metadata": {},
     "output_type": "execute_result"
    }
   ],
   "source": [
    "infectats"
   ]
  },
  {
   "cell_type": "markdown",
   "id": "cd2599d3",
   "metadata": {},
   "source": [
    "3."
   ]
  },
  {
   "cell_type": "code",
   "execution_count": 63,
   "id": "afba7839",
   "metadata": {},
   "outputs": [],
   "source": [
    "pi= 3.1415926535897932"
   ]
  },
  {
   "cell_type": "code",
   "execution_count": 67,
   "id": "a3e76cea",
   "metadata": {},
   "outputs": [],
   "source": [
    "r2= 30"
   ]
  },
  {
   "cell_type": "code",
   "execution_count": 64,
   "id": "2442e519",
   "metadata": {},
   "outputs": [],
   "source": [
    "r=15"
   ]
  },
  {
   "cell_type": "code",
   "execution_count": 85,
   "id": "a4523ee7",
   "metadata": {},
   "outputs": [],
   "source": [
    "P= 2*pi*r\n",
    "A =pi*r**2\n",
    "V = (4/3)* pi * r**3\n",
    "P2= 2*pi*r2\n",
    "A2 =pi*r2**2\n",
    "V2 = (4/3)* pi * r2**3\n"
   ]
  },
  {
   "cell_type": "code",
   "execution_count": 69,
   "id": "819cb11d",
   "metadata": {},
   "outputs": [
    {
     "data": {
      "text/plain": [
       "94.24777960769379"
      ]
     },
     "execution_count": 69,
     "metadata": {},
     "output_type": "execute_result"
    }
   ],
   "source": [
    "P\n"
   ]
  },
  {
   "cell_type": "code",
   "execution_count": null,
   "id": "338a53f2",
   "metadata": {},
   "outputs": [],
   "source": [
    "r = \"\""
   ]
  },
  {
   "cell_type": "code",
   "execution_count": 70,
   "id": "f440cca3",
   "metadata": {},
   "outputs": [
    {
     "data": {
      "text/plain": [
       "706.8583470577034"
      ]
     },
     "execution_count": 70,
     "metadata": {},
     "output_type": "execute_result"
    }
   ],
   "source": [
    "A"
   ]
  },
  {
   "cell_type": "code",
   "execution_count": 71,
   "id": "a465b0d3",
   "metadata": {},
   "outputs": [
    {
     "data": {
      "text/plain": [
       "14137.166941154068"
      ]
     },
     "execution_count": 71,
     "metadata": {},
     "output_type": "execute_result"
    }
   ],
   "source": [
    "V"
   ]
  },
  {
   "cell_type": "code",
   "execution_count": 72,
   "id": "413c80a5",
   "metadata": {},
   "outputs": [
    {
     "data": {
      "text/plain": [
       "188.49555921538757"
      ]
     },
     "execution_count": 72,
     "metadata": {},
     "output_type": "execute_result"
    }
   ],
   "source": [
    "P2"
   ]
  },
  {
   "cell_type": "code",
   "execution_count": 73,
   "id": "9b834807",
   "metadata": {},
   "outputs": [
    {
     "data": {
      "text/plain": [
       "2827.4333882308138"
      ]
     },
     "execution_count": 73,
     "metadata": {},
     "output_type": "execute_result"
    }
   ],
   "source": [
    "A2"
   ]
  },
  {
   "cell_type": "code",
   "execution_count": 84,
   "id": "99fc8667",
   "metadata": {},
   "outputs": [
    {
     "data": {
      "text/plain": [
       "113097.33552923254"
      ]
     },
     "execution_count": 84,
     "metadata": {},
     "output_type": "execute_result"
    }
   ],
   "source": [
    "V2\n"
   ]
  },
  {
   "cell_type": "code",
   "execution_count": null,
   "id": "fbffc680",
   "metadata": {},
   "outputs": [
    {
     "name": "stdout",
     "output_type": "stream",
     "text": [
      "Pel radi 15, el perímetre és 94.24777960769379m, l'àrea és 706.8583470577034m2, i el volum és 14137.166941154068m3.\n"
     ]
    },
    {
     "data": {
      "text/plain": [
       "0"
      ]
     },
     "execution_count": 79,
     "metadata": {},
     "output_type": "execute_result"
    }
   ],
   "source": [
    "print(f\"Pel radi {r}, el perímetre és {P}m, l'àrea és {A}m2, i el volum és {V}m3.\")\n"
   ]
  },
  {
   "cell_type": "code",
   "execution_count": 86,
   "id": "306a3a43",
   "metadata": {},
   "outputs": [
    {
     "name": "stdout",
     "output_type": "stream",
     "text": [
      "Pel radi 30, el perímetre és 188.49555921538757m, l'àrea és 2827.4333882308138m2, i el volum és 113097.33552923254m3.\n"
     ]
    }
   ],
   "source": [
    "print(f\"Pel radi {r2}, el perímetre és {P2}m, l'àrea és {A2}m2, i el volum és {V2}m3.\")"
   ]
  },
  {
   "cell_type": "markdown",
   "id": "26bbe022",
   "metadata": {},
   "source": [
    "4.\n",
    "\n"
   ]
  },
  {
   "cell_type": "code",
   "execution_count": 87,
   "id": "0c03d6e8",
   "metadata": {},
   "outputs": [],
   "source": [
    "nom = \"Enrique Mata González\""
   ]
  },
  {
   "cell_type": "code",
   "execution_count": 97,
   "id": "f3939660",
   "metadata": {},
   "outputs": [],
   "source": [
    "primera_lletra = nom[0]"
   ]
  },
  {
   "cell_type": "code",
   "execution_count": 96,
   "id": "b7590047",
   "metadata": {},
   "outputs": [],
   "source": [
    "ultima_lletra = nom[-1]"
   ]
  },
  {
   "cell_type": "code",
   "execution_count": 91,
   "id": "5ca0ec2e",
   "metadata": {},
   "outputs": [],
   "source": [
    "tres_lletres = nom[2:5]"
   ]
  },
  {
   "cell_type": "code",
   "execution_count": 92,
   "id": "4faf6111",
   "metadata": {},
   "outputs": [],
   "source": [
    "nom_M = nom.upper()"
   ]
  },
  {
   "cell_type": "code",
   "execution_count": 94,
   "id": "8484e596",
   "metadata": {},
   "outputs": [],
   "source": [
    "nom_m = nom.lower()"
   ]
  },
  {
   "cell_type": "code",
   "execution_count": 95,
   "id": "f8c64045",
   "metadata": {},
   "outputs": [],
   "source": [
    "llargada_nom = len(nom)"
   ]
  },
  {
   "cell_type": "code",
   "execution_count": 102,
   "id": "442fb169",
   "metadata": {},
   "outputs": [
    {
     "name": "stdout",
     "output_type": "stream",
     "text": [
      "Hola, el meu nom és Enrique Mata González. La primera lletra del meu nom és ´E.\n",
      " La ultima lletra del meu nom és ´z.\n",
      " Els tres caracters entre la posicio 2 i la posicio 5 son: riq\n",
      " El meu nom, amb espai té 21 caracters.\n",
      " El meu nom, en majuscules es veu aixi: ENRIQUE MATA GONZÁLEZ.\n",
      " El meu nom, en minuscules es veu aixi: enrique mata gonzález.\n",
      "   \n"
     ]
    }
   ],
   "source": [
    "print(f\"Hola, el meu nom és {nom}. La primera lletra del meu nom és ´{primera_lletra}.\\n La ultima lletra del meu nom és ´{ultima_lletra}.\\n Els tres caracters entre la posicio 2 i la posicio 5 son: {tres_lletres}\\n El meu nom, amb espai té {llargada_nom} caracters.\\n El meu nom, en majuscules es veu aixi: {nom_M}.\\n El meu nom, en minuscules es veu aixi: {nom_m}.\\n   \")"
   ]
  },
  {
   "cell_type": "code",
   "execution_count": null,
   "id": "696bd242",
   "metadata": {},
   "outputs": [],
   "source": []
  }
 ],
 "metadata": {
  "kernelspec": {
   "display_name": "AppJT-CYNiPx3S",
   "language": "python",
   "name": "python3"
  },
  "language_info": {
   "codemirror_mode": {
    "name": "ipython",
    "version": 3
   },
   "file_extension": ".py",
   "mimetype": "text/x-python",
   "name": "python",
   "nbconvert_exporter": "python",
   "pygments_lexer": "ipython3",
   "version": "3.13.7"
  }
 },
 "nbformat": 4,
 "nbformat_minor": 5
}
